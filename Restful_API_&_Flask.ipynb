{
  "nbformat": 4,
  "nbformat_minor": 0,
  "metadata": {
    "colab": {
      "provenance": []
    },
    "kernelspec": {
      "name": "python3",
      "display_name": "Python 3"
    },
    "language_info": {
      "name": "python"
    }
  },
  "cells": [
    {
      "cell_type": "code",
      "execution_count": null,
      "metadata": {
        "id": "cJwo-l8hA9_T"
      },
      "outputs": [],
      "source": [
        "1.  What is a RESTful API?\n",
        "Ans - A RESTful API (Representational State Transfer API) is a way for different software systems to communicate over the internet using HTTP protocols.\n",
        " It's one of the most common approaches for building web services.\n"
      ]
    },
    {
      "cell_type": "markdown",
      "source": [
        "2.  Explain the concept of API specification\n",
        "Ans - An API specification is a detailed blueprint or contract that describes how an API behaves and how other systems can interact with it. It tells developers what the API does, how to use it, and what to expect in return."
      ],
      "metadata": {
        "id": "xd5nzeCHBRrR"
      }
    },
    {
      "cell_type": "markdown",
      "source": [
        "3.  What is Flask, and why is it popular for building APIs\n",
        "Ans - Flask is a lightweight web framework written in Python. It's used to build web applications and APIs (Application Programming Interfaces).\n",
        "\n",
        "At its core, Flask helps developers:\n",
        "* Create routes (URLs) that respond to web requests.\n",
        "* Handle data input/output.\n",
        "* Return responses (like HTML or JSON)\n",
        "\n",
        " Flask popular for building APIs because\n",
        " Lightweight and Simple:\n",
        "                      Flask doesn’t force you to use specific tools or patterns. You write what you need, no extra bloat.\n",
        "\n",
        " Easy to Learn:\n",
        "                      It has a clean, readable syntax—perfect for beginners and pros alike.\n",
        "\n",
        "Built-in Support for APIs:\n",
        "                      You can easily return data in JSON format using return jsonify(...).\n",
        "\n"
      ],
      "metadata": {
        "id": "EtvFmjKcBxbu"
      }
    },
    {
      "cell_type": "markdown",
      "source": [
        "4.  What is routing in Flask\n",
        "Ans - Routing in Flask means connecting a URL (or path) to a specific function in your Python code. That function is called a view function, and it defines what should happen when someone visits that URL."
      ],
      "metadata": {
        "id": "SdiEQkVJDO1f"
      }
    },
    {
      "cell_type": "markdown",
      "source": [
        "5.  How do you create a simple Flask application\n",
        "Ans - 1. Import the Flask Class:\n",
        "Begin by importing the Flask class from the flask module. This class is the core of any Flask app.\n",
        "\n",
        "2 . Create a Flask Application Instance:\n",
        "Create an instance of the Flask class. This object will act as the main application.\n",
        "\n",
        "3 . Define Routes:\n",
        "Use the @app.route() decorator to define URL paths (routes) and link them to specific Python functions (called view functions).\n",
        "Each route tells Flask what to do when a particular URL is requested.\n",
        "\n",
        "4 . Write View Functions:\n",
        "These are Python functions that return a response, such as a string or HTML content. When a route is accessed, its corresponding function runs and returns the response to the browser.\n",
        "\n",
        "5 . Run the Application:\n",
        "Use app.run() to start the development server. This allows the application to listen for requests on a local server (usually on port 5000)."
      ],
      "metadata": {
        "id": "9cSnjoFyDO4t"
      }
    },
    {
      "cell_type": "markdown",
      "source": [
        "6.  What are HTTP methods used in RESTful APIs\n",
        "Ans - In RESTful architecture, HTTP methods define the type of operation to be performed on a resource (like users, products, or orders). Each method has a specific meaning and use case, aligned with CRUD operations (Create, Read, Update, Delete).\n",
        "\n"
      ],
      "metadata": {
        "id": "m4_gzeP2EAXX"
      }
    },
    {
      "cell_type": "markdown",
      "source": [
        "7.  What is the purpose of the @app.route() decorator in Flask\n",
        "Ans - The @app.route() decorator in Flask is used to map a URL (or route) to a specific function in your Python code, often referred to as a view function.\n",
        "\n",
        "When a user visits a particular URL in their browser (or sends a request), the Flask app uses this decorator to call the associated function and return a response.\n",
        "\n"
      ],
      "metadata": {
        "id": "nPjtfoPwEYJ3"
      }
    },
    {
      "cell_type": "markdown",
      "source": [
        "8.  What is the difference between GET and POST HTTP methods\n",
        "Ans - Both GET and POST are HTTP methods used to interact with web servers, but they are used for different purposes in the context of web applications and RESTful APIs.\n",
        "\n",
        "1 . GET Method:\n",
        "  Purpose:\n",
        "The GET method is used to retrieve data from the server. It is a read-only operation, meaning it does not modify the server's data.\n",
        "  How It Works:\n",
        "When you send a GET request, you're asking the server to return a resource or data. The data is usually sent as part of the URL (in the query string, e.g., /users?name=John).\n",
        "\n",
        "2 . POST Method:\n",
        "  Purpose:\n",
        "The POST method is used to send data to the server to create or update a resource. It is a write operation.\n",
        "  How It Works:\n",
        "When you send a POST request, you're submitting data to the server, which can then process it (e.g., creating a new user, submitting a form). The data is usually included in the request body rather than the URL.\n",
        "  "
      ],
      "metadata": {
        "id": "57pbuTbvEmhm"
      }
    },
    {
      "cell_type": "markdown",
      "source": [
        "9.  How do you handle errors in Flask APIs\n",
        "Ans - Handling errors in Flask APIs is an essential part of building a robust and user-friendly application. Flask provides various ways to handle and manage errors so that your API can return meaningful error messages and status codes when something goes wrong."
      ],
      "metadata": {
        "id": "PKj_YrvNFRN_"
      }
    },
    {
      "cell_type": "markdown",
      "source": [
        "10.  How do you connect Flask to a SQL database\n",
        "Ans - Connecting Flask to a SQL database involves using a database library that allows you to interact with a relational database. One of the most popular ways to do this is by using SQLAlchemy, a powerful Object Relational Mapper (ORM) that makes it easy to work with databases in Flask."
      ],
      "metadata": {
        "id": "icA1rRizFa-d"
      }
    },
    {
      "cell_type": "markdown",
      "source": [
        "11.  What is the role of Flask-SQLAlchemy\n",
        "Ans - The  Role of Flask-SQLAlchemy:\n",
        "Flask-SQLAlchemy is an extension for Flask that provides integration with SQLAlchemy, a powerful Object Relational Mapper (ORM) for Python. It makes it easier to work with relational databases by allowing developers to interact with the database using Python classes and objects, rather than writing raw SQL queries."
      ],
      "metadata": {
        "id": "kGaPlGRVFlEe"
      }
    },
    {
      "cell_type": "markdown",
      "source": [
        "12.  What are Flask blueprints, and how are they useful\n",
        "Ans - In Flask, blueprints provide a way to organize your application into modular components, making it easier to structure large applications by breaking them into smaller, more manageable pieces. A blueprint is essentially a way to group related views (routes), templates, static files, and other elements of your application together.\n",
        "The Blueprints are Useful because\n",
        "* Modularity:\n",
        "Blueprints allow you to group related functionality together into modules. This makes your app more modular and easier to maintain, especially when it grows large.\n",
        "* Separation of Concerns:\n",
        "Blueprints help you separate different parts of your application into distinct concerns. For example, the authentication system can be in one blueprint, while the core features of your app (like displaying posts or managing data) can be in another.\n",
        "* Reusability:\n",
        "Blueprints can be reused across different applications or parts of the same application. You can create a blueprint that handles a specific task, like authentication or user profiles, and reuse it in other projects."
      ],
      "metadata": {
        "id": "m79FiizHF4pI"
      }
    },
    {
      "cell_type": "markdown",
      "source": [
        "13.  What is the purpose of Flask's request object\n",
        "Ans- In Flask, the request object is an essential part of handling HTTP requests. It contains all the data that is sent from the client (such as a browser or an API client) to the server when a client makes a request to a Flask route. This includes the request method (e.g., GET, POST), form data, query parameters, headers, and more."
      ],
      "metadata": {
        "id": "32eO3GsOG6FX"
      }
    },
    {
      "cell_type": "markdown",
      "source": [
        "14.  How do you create a RESTful API endpoint using Flask\n",
        "Ans - A RESTful API (Representational State Transfer) is a web service designed to interact with clients using HTTP requests (such as GET, POST, PUT, DELETE) and to perform CRUD operations (Create, Read, Update, Delete) on resources. In Flask, which is a lightweight Python web framework, creating such an API involves defining routes (endpoints) that handle these HTTP requests and provide responses based on the data and action requested by the client."
      ],
      "metadata": {
        "id": "k6g-77owHLx4"
      }
    },
    {
      "cell_type": "markdown",
      "source": [
        "15.  What is the purpose of Flask's jsonify() function\n",
        "Ans - The purpose of Flask's jsonify() function is to convert Python data structures (such as dictionaries or lists) into a JSON response that can be returned to the client. JSON (JavaScript Object Notation) is a lightweight data format commonly used for data exchange between a server and a client, especially in web APIs."
      ],
      "metadata": {
        "id": "hHHs-4QTHkZD"
      }
    },
    {
      "cell_type": "markdown",
      "source": [
        "16.  Explain Flask’s url_for() function\n",
        "Ans - Flask’s url_for() function is a utility function that is used to generate dynamic URLs for your views (routes). It helps create URLs for the routes in your application based on the function name and any arguments or parameters that the route requires. This is particularly useful because it allows you to refer to URLs without hardcoding them, ensuring that your URLs remain consistent and flexible, even if the route paths change."
      ],
      "metadata": {
        "id": "cSmrFAEoHzC6"
      }
    },
    {
      "cell_type": "markdown",
      "source": [
        "17.  How does Flask handle static files (CSS, JavaScript, etc.)\n",
        "Ans - Flask handles static files (such as CSS, JavaScript, images, and other static resources) in a specific way by serving them from a special folder called static. This folder is automatically included in the default Flask project structure, and Flask provides a built-in mechanism to serve static files directly to the client without requiring any extra code."
      ],
      "metadata": {
        "id": "WXN-ZM1RH9g8"
      }
    },
    {
      "cell_type": "markdown",
      "source": [
        "18.  What is an API specification, and how does it help in building a Flask API\n",
        "Ans - An API specification is a document or formal description of how an API should behave, what endpoints it should expose, and how data is transferred between the client and the server.\n",
        "The  API Specification Help in Building a Flask API as\n",
        " * Clear Blueprint for Development:\n",
        "An API specification provides a clear blueprint or contract for your API. It describes what the endpoints are, how data should be structured, and how the API will behave.\n",
        "This is especially helpful when multiple developers or teams are involved in building and maintaining the API.\n",
        "* Documentation:\n",
        "A detailed specification automatically serves as API documentation. This makes it easier for developers to understand the API’s functionality, usage, and behavior.\n",
        "Tools like Swagger UI or Redoc can generate interactive documentation from an OpenAPI specification, which can be directly consumed by front-end developers or external consumers of the API.\n",
        "* Consistent Structure:\n",
        "By using an API specification, you define a consistent structure for all your API endpoints. This includes consistent request/response formats, status codes, and error handling.\n",
        "Consistency improves the usability of your API, ensuring that both developers and clients can work with it more efficiently."
      ],
      "metadata": {
        "id": "7ILPPRsfIQUP"
      }
    },
    {
      "cell_type": "markdown",
      "source": [
        "19.  What are HTTP status codes, and why are they important in a Flask API\n",
        "Ans - HTTP Status Codes are three-digit numbers sent by the server as part of the response to a client’s HTTP request. These codes indicate the result of the server’s attempt to process the request. They provide important information about the outcome of the request, such as whether it was successful, if there was an error, or if further action is needed.\n",
        "\n",
        "HTTP status codes are divided into several categories, each representing a different type of response:\n",
        "*  1xx - Informational:\n",
        "These codes indicate that the request is being processed and the client should wait for further instructions.\n",
        "Example: 100 Continue.\n",
        "*  2xx - Success:\n",
        "These codes indicate that the request was successfully processed by the server.\n",
        "Example: 200 OK, 201 Created.\n",
        "*  3xx - Redirection:\n",
        "These codes indicate that the client must take additional action (usually following a redirect to another URL).\n",
        "Example: 301 Moved Permanently, 302 Found.\n",
        "*  4xx - Client Errors:\n",
        "These codes indicate that the client made an error, such as sending a bad request or unauthorized access.\n",
        "Example: 400 Bad Request, 404 Not Found, 401 Unauthorized.\n",
        "*  5xx - Server Errors:\n",
        "These codes indicate that the server encountered an error while processing the request.\n",
        "Example: 500 Internal Server Error, 502 Bad Gateway."
      ],
      "metadata": {
        "id": "8FU7xul7JR_W"
      }
    },
    {
      "cell_type": "markdown",
      "source": [
        "20.  How do you handle POST requests in Flask\n",
        "Ans - Handling POST requests in Flask involves creating a route that listens for POST requests and processes the data sent in the request body. In Flask, you can access the data in the request body using request.get_json() for JSON data or request.form for form-encoded data."
      ],
      "metadata": {
        "id": "-RYXTFiGJzdf"
      }
    },
    {
      "cell_type": "markdown",
      "source": [
        "21.  How would you secure a Flask API\n",
        "Ans - Securing a Flask API is crucial to protect sensitive data and ensure that only authorized users can access certain resources. There are various ways to secure a Flask API, ranging from using HTTPS to implementing authentication and authorization mechanisms."
      ],
      "metadata": {
        "id": "eSkLlmsLJ_ge"
      }
    },
    {
      "cell_type": "markdown",
      "source": [
        "22. What is the significance of the Flask-RESTful extension\n",
        "Ans - The Flask-RESTful extension is a powerful library that simplifies the creation of RESTful APIs with Flask. It provides tools to handle common API tasks and helps structure the code more efficiently, following best practices for building APIs.\n",
        " Here's why it’s significant:\n",
        "1. Simplifies API Development\n",
        "Flask-RESTful streamlines the process of building a RESTful API by providing high-level abstractions for routes, requests, and responses.\n",
        "It reduces the amount of boilerplate code required to define routes and manage resources.\n",
        "2. Resource-Based Approach\n",
        "Flask-RESTful introduces the concept of Resources, which are representations of the API’s data models. This allows you to map API endpoints directly to resource classes. Each resource class typically represents a single data entity (such as a User or Product).\n",
        "\n"
      ],
      "metadata": {
        "id": "MI4hq8KjKI4o"
      }
    },
    {
      "cell_type": "markdown",
      "source": [
        "23.  What is the role of Flask’s session object?\n",
        "Ans - Flask's session object is a way to store information about a user's session on the server side, across multiple requests. It allows you to persist data during a user's interaction with the application (typically between HTTP requests), making it useful for things like user authentication, preferences, and temporary data storage."
      ],
      "metadata": {
        "id": "8XyM_6HtKcP4"
      }
    },
    {
      "cell_type": "markdown",
      "source": [
        "                 PRACTICALS"
      ],
      "metadata": {
        "id": "zvQdBpBUKlGC"
      }
    },
    {
      "cell_type": "markdown",
      "source": [
        "1. How do you create a basic Flask application\n"
      ],
      "metadata": {
        "id": "BK6SV01kKzAM"
      }
    },
    {
      "cell_type": "code",
      "source": [
        "from flask import Flask\n",
        "\n",
        "app = Flask(__name__)\n",
        "\n",
        "@app.route('/')\n",
        "def hello_world():\n",
        "    return 'Hello, World!'\n",
        "\n",
        "if __name__ == '__main__':\n",
        "    app.run(debug=True)\n"
      ],
      "metadata": {
        "id": "v8jwH-3XK2Rb"
      },
      "execution_count": null,
      "outputs": []
    },
    {
      "cell_type": "markdown",
      "source": [
        "2. How do you serve static files like images or CSS in Flask\n"
      ],
      "metadata": {
        "id": "i9SE_BBtK_3U"
      }
    },
    {
      "cell_type": "code",
      "source": [
        "from flask import Flask, render_template\n",
        "\n",
        "app = Flask(__name__)\n",
        "\n",
        "@app.route('/')\n",
        "def home():\n",
        "    return render_template('index.html')\n",
        "\n",
        "if __name__ == '__main__':\n",
        "    app.run(debug=True)\n"
      ],
      "metadata": {
        "id": "POkstNfQLDRf"
      },
      "execution_count": null,
      "outputs": []
    },
    {
      "cell_type": "markdown",
      "source": [
        "3. How do you define different routes with different HTTP methods in Flask\n"
      ],
      "metadata": {
        "id": "6LuqSoKcLNGY"
      }
    },
    {
      "cell_type": "code",
      "source": [
        "from flask import Flask\n",
        "\n",
        "app = Flask(__name__)\n",
        "\n",
        "@app.route('/')\n",
        "def home():\n",
        "    return 'This is the Home Page (GET request)'\n",
        "\n",
        "if __name__ == '__main__':\n",
        "    app.run(debug=True)\n"
      ],
      "metadata": {
        "id": "J-ylxxU0LPt2"
      },
      "execution_count": null,
      "outputs": []
    },
    {
      "cell_type": "markdown",
      "source": [
        "4. How do you render HTML templates in Flask\n"
      ],
      "metadata": {
        "id": "PMtSryEfLV_c"
      }
    },
    {
      "cell_type": "code",
      "source": [
        "from flask import Flask, render_template\n",
        "\n",
        "app = Flask(__name__)\n",
        "\n",
        "@app.route('/')\n",
        "def home():\n",
        "    return render_template('index.html', title=\"Flask Template Example\")\n",
        "\n",
        "if __name__ == '__main__':\n",
        "    app.run(debug=True)\n"
      ],
      "metadata": {
        "id": "PIgiEs-PLYyL"
      },
      "execution_count": null,
      "outputs": []
    },
    {
      "cell_type": "markdown",
      "source": [
        "5. How can you generate URLs for routes in Flask using url_for\n"
      ],
      "metadata": {
        "id": "s6YwKzEALg5O"
      }
    },
    {
      "cell_type": "code",
      "source": [
        "from flask import Flask, url_for\n",
        "\n",
        "app = Flask(__name__)\n",
        "\n",
        "@app.route('/')\n",
        "def home():\n",
        "    return 'Welcome to the Home Page'\n",
        "\n",
        "@app.route('/user/<username>')\n",
        "def profile(username):\n",
        "    return f'Profile page of {username}'\n",
        "\n",
        "if __name__ == '__main__':\n",
        "    app.run(debug=True)\n"
      ],
      "metadata": {
        "id": "9Syl65wFLjf-"
      },
      "execution_count": null,
      "outputs": []
    },
    {
      "cell_type": "markdown",
      "source": [
        "6. How do you handle forms in Flask\n"
      ],
      "metadata": {
        "id": "CyBNJkgVLsqI"
      }
    },
    {
      "cell_type": "code",
      "source": [
        "from flask import Flask, render_template, request, redirect, url_for\n",
        "\n",
        "app = Flask(__name__)\n",
        "\n",
        "@app.route('/login', methods=['GET', 'POST'])\n",
        "def login():\n",
        "    if request.method == 'POST':\n",
        "        username = request.form['username']\n",
        "        password = request.form['password']\n",
        "\n",
        "        if username == 'admin' and password == 'password':\n",
        "            return redirect(url_for('welcome'))\n",
        "        else:\n",
        "            return \"Invalid credentials, try again.\", 400\n",
        "\n",
        "    return render_template('form.html')\n",
        "\n",
        "@app.route('/welcome')\n",
        "def welcome():\n",
        "    return 'Welcome to the dashboard!'\n",
        "\n",
        "if __name__ == '__main__':\n",
        "    app.run(debug=True)\n"
      ],
      "metadata": {
        "id": "UYGQnm0WLwCt"
      },
      "execution_count": null,
      "outputs": []
    },
    {
      "cell_type": "markdown",
      "source": [
        "7.  How can you validate form data in Flask\n"
      ],
      "metadata": {
        "id": "vL5mUn6KL_Cs"
      }
    },
    {
      "cell_type": "code",
      "source": [
        "from flask import Flask, render_template, request, flash, redirect, url_for\n",
        "\n",
        "app = Flask(__name__)\n",
        "app.secret_key = 'your_secret_key'\n",
        "\n",
        "@app.route('/login', methods=['GET', 'POST'])\n",
        "def login():\n",
        "    if request.method == 'POST':\n",
        "        username = request.form['username']\n",
        "        password = request.form['password']\n",
        "\n",
        "        if not username or not password:\n",
        "            flash('Username and password are required!', 'error')\n",
        "            return redirect(url_for('login'))\n",
        "\n",
        "        if len(username) < 4:\n",
        "            flash('Username must be at least 4 characters long!', 'error')\n",
        "            return redirect(url_for('login'))\n",
        "\n",
        "        if len(password) < 6:\n",
        "            flash('Password must be at least 6 characters long!', 'error')\n",
        "            return redirect(url_for('login'))\n",
        "\n",
        "        if username == 'admin' and password == 'password':\n",
        "            return redirect(url_for('welcome'))\n",
        "        else:\n",
        "            flash('Invalid credentials, please try again.', 'error')\n",
        "            return redirect(url_for('login'))\n",
        "\n",
        "    return render_template('login.html')\n",
        "\n",
        "@app.route('/welcome')\n",
        "def welcome():\n",
        "    return 'Welcome to the dashboard!'\n",
        "\n",
        "if __name__ == '__main__':\n",
        "    app.run(debug=True)\n"
      ],
      "metadata": {
        "id": "k3WbX11YMBfC"
      },
      "execution_count": null,
      "outputs": []
    },
    {
      "cell_type": "markdown",
      "source": [
        "8. How do you manage sessions in Flask\n"
      ],
      "metadata": {
        "id": "cBIQTYKdMYf4"
      }
    },
    {
      "cell_type": "code",
      "source": [
        "from flask import Flask, session, render_template, request, redirect, url_for\n",
        "\n",
        "app = Flask(__name__)\n",
        "app.secret_key = 'your_secret_key'\n",
        "\n",
        "@app.route('/set_session')\n",
        "def set_session():\n",
        "    session['username'] = 'admin'\n",
        "    session['role'] = 'admin'\n",
        "    return 'Session data set!'\n",
        "\n",
        "@app.route('/get_session')\n",
        "def get_session():\n",
        "    username = session.get('username', 'Guest')\n",
        "    role = session.get('role', 'User')\n",
        "    return f'Username: {username}, Role: {role}'\n",
        "\n",
        "@app.route('/logout')\n",
        "def logout():\n",
        "    session.clear()\n",
        "    return redirect(url_for('get_session'))\n",
        "\n",
        "if __name__ == '__main__':\n",
        "    app.run(debug=True)\n"
      ],
      "metadata": {
        "id": "cDa7x_GgMbp3"
      },
      "execution_count": null,
      "outputs": []
    },
    {
      "cell_type": "markdown",
      "source": [
        "9. How do you redirect to a different route in Flask\n"
      ],
      "metadata": {
        "id": "JmPDLPg2Mqgz"
      }
    },
    {
      "cell_type": "code",
      "source": [
        "from flask import Flask, redirect, url_for\n",
        "\n",
        "app = Flask(__name__)\n",
        "\n",
        "@app.route('/')\n",
        "def home():\n",
        "    return 'Welcome to the Home Page!'\n",
        "\n",
        "@app.route('/login')\n",
        "def login():\n",
        "    return 'Please log in here.'\n",
        "\n",
        "@app.route('/redirect_to_login')\n",
        "def redirect_to_login():\n",
        "    return redirect(url_for('login'))\n",
        "\n",
        "if __name__ == '__main__':\n",
        "    app.run(debug=True)\n"
      ],
      "metadata": {
        "id": "hLSK58hPMs1t"
      },
      "execution_count": null,
      "outputs": []
    },
    {
      "cell_type": "markdown",
      "source": [
        "10. How do you handle errors in Flask (e.g., 404)\n"
      ],
      "metadata": {
        "id": "WsYlqVszM1Wn"
      }
    },
    {
      "cell_type": "code",
      "source": [
        "from flask import Flask, render_template\n",
        "\n",
        "app = Flask(__name__)\n",
        "\n",
        "@app.errorhandler(404)\n",
        "def page_not_found(e):\n",
        "    return render_template('404.html'), 404\n",
        "\n",
        "@app.route('/')\n",
        "def home():\n",
        "    return 'Welcome to the Home Page!'\n",
        "\n",
        "if __name__ == '__main__':\n",
        "    app.run(debug=True)\n"
      ],
      "metadata": {
        "id": "aFg-sdmpM4R4"
      },
      "execution_count": null,
      "outputs": []
    },
    {
      "cell_type": "markdown",
      "source": [
        "11.  How do you structure a Flask app using Blueprints\n"
      ],
      "metadata": {
        "id": "AwwnIW7BNBqu"
      }
    },
    {
      "cell_type": "code",
      "source": [
        "from app import create_app\n",
        "\n",
        "app = create_app()\n",
        "\n",
        "if __name__ == '__main__':\n",
        "    app.run(debug=True)\n",
        "from flask import Flask\n",
        "from .auth import auth_bp\n",
        "from .blog import blog_bp\n",
        "\n",
        "def create_app():\n",
        "    app = Flask(__name__)\n",
        "\n",
        "\n",
        "    app.register_blueprint(auth_bp, url_prefix='/auth')\n",
        "    app.register_blueprint(blog_bp, url_prefix='/blog')\n",
        "\n",
        "    return app\n"
      ],
      "metadata": {
        "id": "ZwXzIJuQNFQq"
      },
      "execution_count": null,
      "outputs": []
    },
    {
      "cell_type": "markdown",
      "source": [
        "12. How do you define a custom Jinja filter in Flask\n"
      ],
      "metadata": {
        "id": "B5HD4p4rNgUY"
      }
    },
    {
      "cell_type": "code",
      "source": [
        "from flask import Flask, render_template\n",
        "\n",
        "app = Flask(__name__)\n",
        "\n",
        "def reverse_string(value):\n",
        "    \"\"\"Reverse the input string.\"\"\"\n",
        "    if isinstance(value, str):\n",
        "        return value[::-1]\n",
        "    return value\n",
        "\n",
        "app.add_template_filter(reverse_string, 'reverse')\n",
        "\n",
        "@app.route('/')\n",
        "def home():\n",
        "    return render_template('index.html', text=\"Hello, Flask!\")\n",
        "\n",
        "if __name__ == '__main__':\n",
        "    app.run(debug=True)\n"
      ],
      "metadata": {
        "id": "X5Le8wghNjp2"
      },
      "execution_count": null,
      "outputs": []
    },
    {
      "cell_type": "markdown",
      "source": [
        "13. How can you redirect with query parameters in Flask\n"
      ],
      "metadata": {
        "id": "8VWC8_uzNrom"
      }
    },
    {
      "cell_type": "code",
      "source": [
        "from flask import Flask, redirect, url_for\n",
        "\n",
        "app = Flask(__name__)\n",
        "\n",
        "@app.route('/')\n",
        "def home():\n",
        "    return 'Welcome to the Home Page! <a href=\"/redirect_to_profile\">Go to Profile</a>'\n",
        "\n",
        "@app.route('/redirect_to_profile')\n",
        "def redirect_to_profile():\n",
        "    return redirect(url_for('profile', user_id=123))\n",
        "\n",
        "@app.route('/profile')\n",
        "def profile():\n",
        "    user_id = request.args.get('user_id')\n",
        "    return f'Profile Page for User ID: {user_id}'\n",
        "\n",
        "if __name__ == '__main__':\n",
        "    app.run(debug=True)\n"
      ],
      "metadata": {
        "id": "zxVTj-kpNux5"
      },
      "execution_count": null,
      "outputs": []
    },
    {
      "cell_type": "markdown",
      "source": [
        "14. How do you return JSON responses in Flask\n"
      ],
      "metadata": {
        "id": "llw6--zYN2zb"
      }
    },
    {
      "cell_type": "code",
      "source": [
        "from flask import Flask, jsonify\n",
        "\n",
        "app = Flask(__name__)\n",
        "\n",
        "@app.route('/api/data')\n",
        "def get_data():\n",
        "    data = {\n",
        "        'name': 'John Doe',\n",
        "        'age': 30,\n",
        "        'city': 'New York'\n",
        "    }\n",
        "    return jsonify(data)\n",
        "\n",
        "if __name__ == '__main__':\n",
        "    app.run(debug=True)\n"
      ],
      "metadata": {
        "id": "a4sDRB9XN5cE"
      },
      "execution_count": null,
      "outputs": []
    },
    {
      "cell_type": "markdown",
      "source": [
        "15. How do you capture URL parameters in Flask?\n"
      ],
      "metadata": {
        "id": "BZNcPL7KN-j3"
      }
    },
    {
      "cell_type": "code",
      "source": [
        "from flask import Flask\n",
        "\n",
        "app = Flask(__name__)\n",
        "\n",
        "@app.route('/user/<username>')\n",
        "def show_user(username):\n",
        "    return f'Hello, {username}!'\n",
        "\n",
        "if __name__ == '__main__':\n",
        "    app.run(debug=True)\n"
      ],
      "metadata": {
        "id": "k-kzAX5SOBcK"
      },
      "execution_count": null,
      "outputs": []
    }
  ]
}